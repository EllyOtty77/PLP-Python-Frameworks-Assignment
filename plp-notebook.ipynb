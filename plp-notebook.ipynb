{
 "cells": [
  {
   "cell_type": "code",
   "execution_count": 1,
   "id": "e99ef6bc-8703-469f-b730-b624ebaa3338",
   "metadata": {},
   "outputs": [],
   "source": [
    "# Import libraries\n",
    "import pandas as pd\n",
    "import matplotlib.pyplot as plt\n",
    "import seaborn as sns"
   ]
  },
  {
   "cell_type": "code",
   "execution_count": 2,
   "id": "8b30164a-57f9-4e4c-b76b-cfb8b9f7537e",
   "metadata": {},
   "outputs": [],
   "source": [
    "df = pd.read_csv('fifa23.csv')"
   ]
  },
  {
   "cell_type": "markdown",
   "id": "a9e168c2-43b5-44e0-8af0-3424a7fa25d2",
   "metadata": {},
   "source": [
    "### Basic Exploration"
   ]
  },
  {
   "cell_type": "code",
   "execution_count": 3,
   "id": "d0d92bf7-2e24-4142-9c08-b05a168bea57",
   "metadata": {},
   "outputs": [
    {
     "data": {
      "text/plain": [
       "(18539, 89)"
      ]
     },
     "execution_count": 3,
     "metadata": {},
     "output_type": "execute_result"
    }
   ],
   "source": [
    "# Dataframe sdimensions\n",
    "df.shape"
   ]
  },
  {
   "cell_type": "code",
   "execution_count": 4,
   "id": "a591cc65-e6a0-406a-8451-b5ca49197e59",
   "metadata": {},
   "outputs": [
    {
     "data": {
      "text/plain": [
       "Known As          object\n",
       "Full Name         object\n",
       "Overall            int64\n",
       "Potential          int64\n",
       "Value(in Euro)     int64\n",
       "                   ...  \n",
       "RWB Rating         int64\n",
       "LB Rating          int64\n",
       "CB Rating          int64\n",
       "RB Rating          int64\n",
       "GK Rating          int64\n",
       "Length: 89, dtype: object"
      ]
     },
     "execution_count": 4,
     "metadata": {},
     "output_type": "execute_result"
    }
   ],
   "source": [
    "# Identify data types of each column\n",
    "df.dtypes"
   ]
  },
  {
   "cell_type": "code",
   "execution_count": 5,
   "id": "2ead495e-16c6-4ed2-9cdc-db8cac4d5f60",
   "metadata": {
    "scrolled": true
   },
   "outputs": [
    {
     "name": "stdout",
     "output_type": "stream",
     "text": [
      "<class 'pandas.core.frame.DataFrame'>\n",
      "RangeIndex: 18539 entries, 0 to 18538\n",
      "Data columns (total 89 columns):\n",
      " #   Column                       Non-Null Count  Dtype \n",
      "---  ------                       --------------  ----- \n",
      " 0   Known As                     18539 non-null  object\n",
      " 1   Full Name                    18539 non-null  object\n",
      " 2   Overall                      18539 non-null  int64 \n",
      " 3   Potential                    18539 non-null  int64 \n",
      " 4   Value(in Euro)               18539 non-null  int64 \n",
      " 5   Positions Played             18539 non-null  object\n",
      " 6   Best Position                18539 non-null  object\n",
      " 7   Nationality                  18539 non-null  object\n",
      " 8   Image Link                   18539 non-null  object\n",
      " 9   Age                          18539 non-null  int64 \n",
      " 10  Height(in cm)                18539 non-null  int64 \n",
      " 11  Weight(in kg)                18539 non-null  int64 \n",
      " 12  TotalStats                   18539 non-null  int64 \n",
      " 13  BaseStats                    18539 non-null  int64 \n",
      " 14  Club Name                    18539 non-null  object\n",
      " 15  Wage(in Euro)                18539 non-null  int64 \n",
      " 16  Release Clause               18539 non-null  int64 \n",
      " 17  Club Position                18539 non-null  object\n",
      " 18  Contract Until               18539 non-null  object\n",
      " 19  Club Jersey Number           18539 non-null  object\n",
      " 20  Joined On                    18539 non-null  int64 \n",
      " 21  On Loan                      18539 non-null  object\n",
      " 22  Preferred Foot               18539 non-null  object\n",
      " 23  Weak Foot Rating             18539 non-null  int64 \n",
      " 24  Skill Moves                  18539 non-null  int64 \n",
      " 25  International Reputation     18539 non-null  int64 \n",
      " 26  National Team Name           18539 non-null  object\n",
      " 27  National Team Image Link     18539 non-null  object\n",
      " 28  National Team Position       18539 non-null  object\n",
      " 29  National Team Jersey Number  18539 non-null  object\n",
      " 30  Attacking Work Rate          18539 non-null  object\n",
      " 31  Defensive Work Rate          18539 non-null  object\n",
      " 32  Pace Total                   18539 non-null  int64 \n",
      " 33  Shooting Total               18539 non-null  int64 \n",
      " 34  Passing Total                18539 non-null  int64 \n",
      " 35  Dribbling Total              18539 non-null  int64 \n",
      " 36  Defending Total              18539 non-null  int64 \n",
      " 37  Physicality Total            18539 non-null  int64 \n",
      " 38  Crossing                     18539 non-null  int64 \n",
      " 39  Finishing                    18539 non-null  int64 \n",
      " 40  Heading Accuracy             18539 non-null  int64 \n",
      " 41  Short Passing                18539 non-null  int64 \n",
      " 42  Volleys                      18539 non-null  int64 \n",
      " 43  Dribbling                    18539 non-null  int64 \n",
      " 44  Curve                        18539 non-null  int64 \n",
      " 45  Freekick Accuracy            18539 non-null  int64 \n",
      " 46  LongPassing                  18539 non-null  int64 \n",
      " 47  BallControl                  18539 non-null  int64 \n",
      " 48  Acceleration                 18539 non-null  int64 \n",
      " 49  Sprint Speed                 18539 non-null  int64 \n",
      " 50  Agility                      18539 non-null  int64 \n",
      " 51  Reactions                    18539 non-null  int64 \n",
      " 52  Balance                      18539 non-null  int64 \n",
      " 53  Shot Power                   18539 non-null  int64 \n",
      " 54  Jumping                      18539 non-null  int64 \n",
      " 55  Stamina                      18539 non-null  int64 \n",
      " 56  Strength                     18539 non-null  int64 \n",
      " 57  Long Shots                   18539 non-null  int64 \n",
      " 58  Aggression                   18539 non-null  int64 \n",
      " 59  Interceptions                18539 non-null  int64 \n",
      " 60  Positioning                  18539 non-null  int64 \n",
      " 61  Vision                       18539 non-null  int64 \n",
      " 62  Penalties                    18539 non-null  int64 \n",
      " 63  Composure                    18539 non-null  int64 \n",
      " 64  Marking                      18539 non-null  int64 \n",
      " 65  Standing Tackle              18539 non-null  int64 \n",
      " 66  Sliding Tackle               18539 non-null  int64 \n",
      " 67  Goalkeeper Diving            18539 non-null  int64 \n",
      " 68  Goalkeeper Handling          18539 non-null  int64 \n",
      " 69   GoalkeeperKicking           18539 non-null  int64 \n",
      " 70  Goalkeeper Positioning       18539 non-null  int64 \n",
      " 71  Goalkeeper Reflexes          18539 non-null  int64 \n",
      " 72  ST Rating                    18539 non-null  int64 \n",
      " 73  LW Rating                    18539 non-null  int64 \n",
      " 74  LF Rating                    18539 non-null  int64 \n",
      " 75  CF Rating                    18539 non-null  int64 \n",
      " 76  RF Rating                    18539 non-null  int64 \n",
      " 77  RW Rating                    18539 non-null  int64 \n",
      " 78  CAM Rating                   18539 non-null  int64 \n",
      " 79  LM Rating                    18539 non-null  int64 \n",
      " 80  CM Rating                    18539 non-null  int64 \n",
      " 81  RM Rating                    18539 non-null  int64 \n",
      " 82  LWB Rating                   18539 non-null  int64 \n",
      " 83  CDM Rating                   18539 non-null  int64 \n",
      " 84  RWB Rating                   18539 non-null  int64 \n",
      " 85  LB Rating                    18539 non-null  int64 \n",
      " 86  CB Rating                    18539 non-null  int64 \n",
      " 87  RB Rating                    18539 non-null  int64 \n",
      " 88  GK Rating                    18539 non-null  int64 \n",
      "dtypes: int64(71), object(18)\n",
      "memory usage: 12.6+ MB\n"
     ]
    }
   ],
   "source": [
    "# Dataframe info\n",
    "df.info()"
   ]
  },
  {
   "cell_type": "code",
   "execution_count": 6,
   "id": "92093f3f-034c-4241-8170-06109196cd1b",
   "metadata": {},
   "outputs": [
    {
     "data": {
      "text/html": [
       "<div>\n",
       "<style scoped>\n",
       "    .dataframe tbody tr th:only-of-type {\n",
       "        vertical-align: middle;\n",
       "    }\n",
       "\n",
       "    .dataframe tbody tr th {\n",
       "        vertical-align: top;\n",
       "    }\n",
       "\n",
       "    .dataframe thead th {\n",
       "        text-align: right;\n",
       "    }\n",
       "</style>\n",
       "<table border=\"1\" class=\"dataframe\">\n",
       "  <thead>\n",
       "    <tr style=\"text-align: right;\">\n",
       "      <th></th>\n",
       "      <th>Known As</th>\n",
       "      <th>Full Name</th>\n",
       "      <th>Overall</th>\n",
       "      <th>Potential</th>\n",
       "      <th>Value(in Euro)</th>\n",
       "      <th>Positions Played</th>\n",
       "      <th>Best Position</th>\n",
       "      <th>Nationality</th>\n",
       "      <th>Image Link</th>\n",
       "      <th>Age</th>\n",
       "      <th>...</th>\n",
       "      <th>LM Rating</th>\n",
       "      <th>CM Rating</th>\n",
       "      <th>RM Rating</th>\n",
       "      <th>LWB Rating</th>\n",
       "      <th>CDM Rating</th>\n",
       "      <th>RWB Rating</th>\n",
       "      <th>LB Rating</th>\n",
       "      <th>CB Rating</th>\n",
       "      <th>RB Rating</th>\n",
       "      <th>GK Rating</th>\n",
       "    </tr>\n",
       "  </thead>\n",
       "  <tbody>\n",
       "    <tr>\n",
       "      <th>0</th>\n",
       "      <td>L. Messi</td>\n",
       "      <td>Lionel Messi</td>\n",
       "      <td>91</td>\n",
       "      <td>91</td>\n",
       "      <td>54000000</td>\n",
       "      <td>RW</td>\n",
       "      <td>CAM</td>\n",
       "      <td>Argentina</td>\n",
       "      <td>https://cdn.sofifa.net/players/158/023/23_60.png</td>\n",
       "      <td>35</td>\n",
       "      <td>...</td>\n",
       "      <td>91</td>\n",
       "      <td>88</td>\n",
       "      <td>91</td>\n",
       "      <td>67</td>\n",
       "      <td>66</td>\n",
       "      <td>67</td>\n",
       "      <td>62</td>\n",
       "      <td>53</td>\n",
       "      <td>62</td>\n",
       "      <td>22</td>\n",
       "    </tr>\n",
       "    <tr>\n",
       "      <th>1</th>\n",
       "      <td>K. Benzema</td>\n",
       "      <td>Karim Benzema</td>\n",
       "      <td>91</td>\n",
       "      <td>91</td>\n",
       "      <td>64000000</td>\n",
       "      <td>CF,ST</td>\n",
       "      <td>CF</td>\n",
       "      <td>France</td>\n",
       "      <td>https://cdn.sofifa.net/players/165/153/23_60.png</td>\n",
       "      <td>34</td>\n",
       "      <td>...</td>\n",
       "      <td>89</td>\n",
       "      <td>84</td>\n",
       "      <td>89</td>\n",
       "      <td>67</td>\n",
       "      <td>67</td>\n",
       "      <td>67</td>\n",
       "      <td>63</td>\n",
       "      <td>58</td>\n",
       "      <td>63</td>\n",
       "      <td>21</td>\n",
       "    </tr>\n",
       "    <tr>\n",
       "      <th>2</th>\n",
       "      <td>R. Lewandowski</td>\n",
       "      <td>Robert Lewandowski</td>\n",
       "      <td>91</td>\n",
       "      <td>91</td>\n",
       "      <td>84000000</td>\n",
       "      <td>ST</td>\n",
       "      <td>ST</td>\n",
       "      <td>Poland</td>\n",
       "      <td>https://cdn.sofifa.net/players/188/545/23_60.png</td>\n",
       "      <td>33</td>\n",
       "      <td>...</td>\n",
       "      <td>86</td>\n",
       "      <td>83</td>\n",
       "      <td>86</td>\n",
       "      <td>67</td>\n",
       "      <td>69</td>\n",
       "      <td>67</td>\n",
       "      <td>64</td>\n",
       "      <td>63</td>\n",
       "      <td>64</td>\n",
       "      <td>22</td>\n",
       "    </tr>\n",
       "    <tr>\n",
       "      <th>3</th>\n",
       "      <td>K. De Bruyne</td>\n",
       "      <td>Kevin De Bruyne</td>\n",
       "      <td>91</td>\n",
       "      <td>91</td>\n",
       "      <td>107500000</td>\n",
       "      <td>CM,CAM</td>\n",
       "      <td>CM</td>\n",
       "      <td>Belgium</td>\n",
       "      <td>https://cdn.sofifa.net/players/192/985/23_60.png</td>\n",
       "      <td>31</td>\n",
       "      <td>...</td>\n",
       "      <td>91</td>\n",
       "      <td>91</td>\n",
       "      <td>91</td>\n",
       "      <td>82</td>\n",
       "      <td>82</td>\n",
       "      <td>82</td>\n",
       "      <td>78</td>\n",
       "      <td>72</td>\n",
       "      <td>78</td>\n",
       "      <td>24</td>\n",
       "    </tr>\n",
       "    <tr>\n",
       "      <th>4</th>\n",
       "      <td>K. Mbappé</td>\n",
       "      <td>Kylian Mbappé</td>\n",
       "      <td>91</td>\n",
       "      <td>95</td>\n",
       "      <td>190500000</td>\n",
       "      <td>ST,LW</td>\n",
       "      <td>ST</td>\n",
       "      <td>France</td>\n",
       "      <td>https://cdn.sofifa.net/players/231/747/23_60.png</td>\n",
       "      <td>23</td>\n",
       "      <td>...</td>\n",
       "      <td>92</td>\n",
       "      <td>84</td>\n",
       "      <td>92</td>\n",
       "      <td>70</td>\n",
       "      <td>66</td>\n",
       "      <td>70</td>\n",
       "      <td>66</td>\n",
       "      <td>57</td>\n",
       "      <td>66</td>\n",
       "      <td>21</td>\n",
       "    </tr>\n",
       "  </tbody>\n",
       "</table>\n",
       "<p>5 rows × 89 columns</p>\n",
       "</div>"
      ],
      "text/plain": [
       "         Known As           Full Name  Overall  Potential  Value(in Euro)  \\\n",
       "0        L. Messi        Lionel Messi       91         91        54000000   \n",
       "1      K. Benzema       Karim Benzema       91         91        64000000   \n",
       "2  R. Lewandowski  Robert Lewandowski       91         91        84000000   \n",
       "3    K. De Bruyne     Kevin De Bruyne       91         91       107500000   \n",
       "4       K. Mbappé       Kylian Mbappé       91         95       190500000   \n",
       "\n",
       "  Positions Played Best Position Nationality  \\\n",
       "0               RW           CAM   Argentina   \n",
       "1            CF,ST            CF      France   \n",
       "2               ST            ST      Poland   \n",
       "3           CM,CAM            CM     Belgium   \n",
       "4            ST,LW            ST      France   \n",
       "\n",
       "                                         Image Link  Age  ...  LM Rating  \\\n",
       "0  https://cdn.sofifa.net/players/158/023/23_60.png   35  ...         91   \n",
       "1  https://cdn.sofifa.net/players/165/153/23_60.png   34  ...         89   \n",
       "2  https://cdn.sofifa.net/players/188/545/23_60.png   33  ...         86   \n",
       "3  https://cdn.sofifa.net/players/192/985/23_60.png   31  ...         91   \n",
       "4  https://cdn.sofifa.net/players/231/747/23_60.png   23  ...         92   \n",
       "\n",
       "   CM Rating  RM Rating  LWB Rating CDM Rating  RWB Rating  LB Rating  \\\n",
       "0         88         91          67         66          67         62   \n",
       "1         84         89          67         67          67         63   \n",
       "2         83         86          67         69          67         64   \n",
       "3         91         91          82         82          82         78   \n",
       "4         84         92          70         66          70         66   \n",
       "\n",
       "  CB Rating RB Rating GK Rating  \n",
       "0        53        62        22  \n",
       "1        58        63        21  \n",
       "2        63        64        22  \n",
       "3        72        78        24  \n",
       "4        57        66        21  \n",
       "\n",
       "[5 rows x 89 columns]"
      ]
     },
     "execution_count": 6,
     "metadata": {},
     "output_type": "execute_result"
    }
   ],
   "source": [
    "# Display first few rows\n",
    "df.head()"
   ]
  },
  {
   "cell_type": "code",
   "execution_count": 7,
   "id": "3c8f55af-4b15-44c8-8613-cd960c671040",
   "metadata": {},
   "outputs": [
    {
     "name": "stdout",
     "output_type": "stream",
     "text": [
      "Known As          False\n",
      "Full Name         False\n",
      "Overall           False\n",
      "Potential         False\n",
      "Value(in Euro)    False\n",
      "                  ...  \n",
      "RWB Rating        False\n",
      "LB Rating         False\n",
      "CB Rating         False\n",
      "RB Rating         False\n",
      "GK Rating         False\n",
      "Length: 89, dtype: bool\n"
     ]
    }
   ],
   "source": [
    "# Display columns with any missing values\n",
    "print(df.isnull().any(axis=0))"
   ]
  },
  {
   "cell_type": "code",
   "execution_count": 8,
   "id": "3bd265b7-5175-4f19-9367-346435c6e09e",
   "metadata": {},
   "outputs": [
    {
     "data": {
      "text/html": [
       "<div>\n",
       "<style scoped>\n",
       "    .dataframe tbody tr th:only-of-type {\n",
       "        vertical-align: middle;\n",
       "    }\n",
       "\n",
       "    .dataframe tbody tr th {\n",
       "        vertical-align: top;\n",
       "    }\n",
       "\n",
       "    .dataframe thead th {\n",
       "        text-align: right;\n",
       "    }\n",
       "</style>\n",
       "<table border=\"1\" class=\"dataframe\">\n",
       "  <thead>\n",
       "    <tr style=\"text-align: right;\">\n",
       "      <th></th>\n",
       "      <th>Overall</th>\n",
       "      <th>Potential</th>\n",
       "      <th>Value(in Euro)</th>\n",
       "      <th>Age</th>\n",
       "      <th>Height(in cm)</th>\n",
       "      <th>Weight(in kg)</th>\n",
       "      <th>TotalStats</th>\n",
       "      <th>BaseStats</th>\n",
       "      <th>Wage(in Euro)</th>\n",
       "      <th>Release Clause</th>\n",
       "      <th>...</th>\n",
       "      <th>LM Rating</th>\n",
       "      <th>CM Rating</th>\n",
       "      <th>RM Rating</th>\n",
       "      <th>LWB Rating</th>\n",
       "      <th>CDM Rating</th>\n",
       "      <th>RWB Rating</th>\n",
       "      <th>LB Rating</th>\n",
       "      <th>CB Rating</th>\n",
       "      <th>RB Rating</th>\n",
       "      <th>GK Rating</th>\n",
       "    </tr>\n",
       "  </thead>\n",
       "  <tbody>\n",
       "    <tr>\n",
       "      <th>count</th>\n",
       "      <td>18539.000000</td>\n",
       "      <td>18539.000000</td>\n",
       "      <td>1.853900e+04</td>\n",
       "      <td>18539.000000</td>\n",
       "      <td>18539.000000</td>\n",
       "      <td>18539.000000</td>\n",
       "      <td>18539.000000</td>\n",
       "      <td>18539.000000</td>\n",
       "      <td>18539.000000</td>\n",
       "      <td>1.853900e+04</td>\n",
       "      <td>...</td>\n",
       "      <td>18539.000000</td>\n",
       "      <td>18539.000000</td>\n",
       "      <td>18539.000000</td>\n",
       "      <td>18539.000000</td>\n",
       "      <td>18539.000000</td>\n",
       "      <td>18539.000000</td>\n",
       "      <td>18539.000000</td>\n",
       "      <td>18539.000000</td>\n",
       "      <td>18539.000000</td>\n",
       "      <td>18539.000000</td>\n",
       "    </tr>\n",
       "    <tr>\n",
       "      <th>mean</th>\n",
       "      <td>65.852042</td>\n",
       "      <td>71.016668</td>\n",
       "      <td>2.875461e+06</td>\n",
       "      <td>25.240412</td>\n",
       "      <td>181.550839</td>\n",
       "      <td>75.173904</td>\n",
       "      <td>1602.114569</td>\n",
       "      <td>357.946221</td>\n",
       "      <td>8824.537462</td>\n",
       "      <td>5.081688e+06</td>\n",
       "      <td>...</td>\n",
       "      <td>58.451319</td>\n",
       "      <td>57.374076</td>\n",
       "      <td>58.451319</td>\n",
       "      <td>56.281569</td>\n",
       "      <td>55.928583</td>\n",
       "      <td>56.281569</td>\n",
       "      <td>55.650251</td>\n",
       "      <td>54.528184</td>\n",
       "      <td>55.650251</td>\n",
       "      <td>23.257134</td>\n",
       "    </tr>\n",
       "    <tr>\n",
       "      <th>std</th>\n",
       "      <td>6.788353</td>\n",
       "      <td>6.192866</td>\n",
       "      <td>7.635129e+06</td>\n",
       "      <td>4.718163</td>\n",
       "      <td>6.858097</td>\n",
       "      <td>7.013593</td>\n",
       "      <td>273.160237</td>\n",
       "      <td>39.628259</td>\n",
       "      <td>19460.531154</td>\n",
       "      <td>1.467203e+07</td>\n",
       "      <td>...</td>\n",
       "      <td>13.987122</td>\n",
       "      <td>13.171194</td>\n",
       "      <td>13.987122</td>\n",
       "      <td>13.903836</td>\n",
       "      <td>13.872190</td>\n",
       "      <td>13.903836</td>\n",
       "      <td>14.159466</td>\n",
       "      <td>14.743929</td>\n",
       "      <td>14.159466</td>\n",
       "      <td>15.108925</td>\n",
       "    </tr>\n",
       "    <tr>\n",
       "      <th>min</th>\n",
       "      <td>47.000000</td>\n",
       "      <td>48.000000</td>\n",
       "      <td>0.000000e+00</td>\n",
       "      <td>16.000000</td>\n",
       "      <td>155.000000</td>\n",
       "      <td>49.000000</td>\n",
       "      <td>759.000000</td>\n",
       "      <td>224.000000</td>\n",
       "      <td>0.000000</td>\n",
       "      <td>0.000000e+00</td>\n",
       "      <td>...</td>\n",
       "      <td>18.000000</td>\n",
       "      <td>18.000000</td>\n",
       "      <td>18.000000</td>\n",
       "      <td>17.000000</td>\n",
       "      <td>19.000000</td>\n",
       "      <td>17.000000</td>\n",
       "      <td>17.000000</td>\n",
       "      <td>18.000000</td>\n",
       "      <td>17.000000</td>\n",
       "      <td>10.000000</td>\n",
       "    </tr>\n",
       "    <tr>\n",
       "      <th>25%</th>\n",
       "      <td>62.000000</td>\n",
       "      <td>67.000000</td>\n",
       "      <td>4.750000e+05</td>\n",
       "      <td>21.000000</td>\n",
       "      <td>177.000000</td>\n",
       "      <td>70.000000</td>\n",
       "      <td>1470.000000</td>\n",
       "      <td>331.000000</td>\n",
       "      <td>1000.000000</td>\n",
       "      <td>6.650000e+05</td>\n",
       "      <td>...</td>\n",
       "      <td>54.000000</td>\n",
       "      <td>53.000000</td>\n",
       "      <td>54.000000</td>\n",
       "      <td>51.000000</td>\n",
       "      <td>48.000000</td>\n",
       "      <td>51.000000</td>\n",
       "      <td>49.000000</td>\n",
       "      <td>45.000000</td>\n",
       "      <td>49.000000</td>\n",
       "      <td>17.000000</td>\n",
       "    </tr>\n",
       "    <tr>\n",
       "      <th>50%</th>\n",
       "      <td>66.000000</td>\n",
       "      <td>71.000000</td>\n",
       "      <td>1.000000e+06</td>\n",
       "      <td>25.000000</td>\n",
       "      <td>182.000000</td>\n",
       "      <td>75.000000</td>\n",
       "      <td>1640.000000</td>\n",
       "      <td>358.000000</td>\n",
       "      <td>3000.000000</td>\n",
       "      <td>1.500000e+06</td>\n",
       "      <td>...</td>\n",
       "      <td>62.000000</td>\n",
       "      <td>60.000000</td>\n",
       "      <td>62.000000</td>\n",
       "      <td>59.000000</td>\n",
       "      <td>59.000000</td>\n",
       "      <td>59.000000</td>\n",
       "      <td>59.000000</td>\n",
       "      <td>58.000000</td>\n",
       "      <td>59.000000</td>\n",
       "      <td>18.000000</td>\n",
       "    </tr>\n",
       "    <tr>\n",
       "      <th>75%</th>\n",
       "      <td>70.000000</td>\n",
       "      <td>75.000000</td>\n",
       "      <td>2.000000e+06</td>\n",
       "      <td>29.000000</td>\n",
       "      <td>186.000000</td>\n",
       "      <td>80.000000</td>\n",
       "      <td>1786.000000</td>\n",
       "      <td>385.000000</td>\n",
       "      <td>8000.000000</td>\n",
       "      <td>3.400000e+06</td>\n",
       "      <td>...</td>\n",
       "      <td>67.000000</td>\n",
       "      <td>66.000000</td>\n",
       "      <td>67.000000</td>\n",
       "      <td>66.000000</td>\n",
       "      <td>66.000000</td>\n",
       "      <td>66.000000</td>\n",
       "      <td>65.000000</td>\n",
       "      <td>66.000000</td>\n",
       "      <td>65.000000</td>\n",
       "      <td>20.000000</td>\n",
       "    </tr>\n",
       "    <tr>\n",
       "      <th>max</th>\n",
       "      <td>91.000000</td>\n",
       "      <td>95.000000</td>\n",
       "      <td>1.905000e+08</td>\n",
       "      <td>44.000000</td>\n",
       "      <td>206.000000</td>\n",
       "      <td>105.000000</td>\n",
       "      <td>2312.000000</td>\n",
       "      <td>502.000000</td>\n",
       "      <td>450000.000000</td>\n",
       "      <td>3.667000e+08</td>\n",
       "      <td>...</td>\n",
       "      <td>92.000000</td>\n",
       "      <td>91.000000</td>\n",
       "      <td>92.000000</td>\n",
       "      <td>88.000000</td>\n",
       "      <td>89.000000</td>\n",
       "      <td>88.000000</td>\n",
       "      <td>87.000000</td>\n",
       "      <td>90.000000</td>\n",
       "      <td>87.000000</td>\n",
       "      <td>90.000000</td>\n",
       "    </tr>\n",
       "  </tbody>\n",
       "</table>\n",
       "<p>8 rows × 71 columns</p>\n",
       "</div>"
      ],
      "text/plain": [
       "            Overall     Potential  Value(in Euro)           Age  \\\n",
       "count  18539.000000  18539.000000    1.853900e+04  18539.000000   \n",
       "mean      65.852042     71.016668    2.875461e+06     25.240412   \n",
       "std        6.788353      6.192866    7.635129e+06      4.718163   \n",
       "min       47.000000     48.000000    0.000000e+00     16.000000   \n",
       "25%       62.000000     67.000000    4.750000e+05     21.000000   \n",
       "50%       66.000000     71.000000    1.000000e+06     25.000000   \n",
       "75%       70.000000     75.000000    2.000000e+06     29.000000   \n",
       "max       91.000000     95.000000    1.905000e+08     44.000000   \n",
       "\n",
       "       Height(in cm)  Weight(in kg)    TotalStats     BaseStats  \\\n",
       "count   18539.000000   18539.000000  18539.000000  18539.000000   \n",
       "mean      181.550839      75.173904   1602.114569    357.946221   \n",
       "std         6.858097       7.013593    273.160237     39.628259   \n",
       "min       155.000000      49.000000    759.000000    224.000000   \n",
       "25%       177.000000      70.000000   1470.000000    331.000000   \n",
       "50%       182.000000      75.000000   1640.000000    358.000000   \n",
       "75%       186.000000      80.000000   1786.000000    385.000000   \n",
       "max       206.000000     105.000000   2312.000000    502.000000   \n",
       "\n",
       "       Wage(in Euro)  Release Clause  ...     LM Rating     CM Rating  \\\n",
       "count   18539.000000    1.853900e+04  ...  18539.000000  18539.000000   \n",
       "mean     8824.537462    5.081688e+06  ...     58.451319     57.374076   \n",
       "std     19460.531154    1.467203e+07  ...     13.987122     13.171194   \n",
       "min         0.000000    0.000000e+00  ...     18.000000     18.000000   \n",
       "25%      1000.000000    6.650000e+05  ...     54.000000     53.000000   \n",
       "50%      3000.000000    1.500000e+06  ...     62.000000     60.000000   \n",
       "75%      8000.000000    3.400000e+06  ...     67.000000     66.000000   \n",
       "max    450000.000000    3.667000e+08  ...     92.000000     91.000000   \n",
       "\n",
       "          RM Rating    LWB Rating    CDM Rating    RWB Rating     LB Rating  \\\n",
       "count  18539.000000  18539.000000  18539.000000  18539.000000  18539.000000   \n",
       "mean      58.451319     56.281569     55.928583     56.281569     55.650251   \n",
       "std       13.987122     13.903836     13.872190     13.903836     14.159466   \n",
       "min       18.000000     17.000000     19.000000     17.000000     17.000000   \n",
       "25%       54.000000     51.000000     48.000000     51.000000     49.000000   \n",
       "50%       62.000000     59.000000     59.000000     59.000000     59.000000   \n",
       "75%       67.000000     66.000000     66.000000     66.000000     65.000000   \n",
       "max       92.000000     88.000000     89.000000     88.000000     87.000000   \n",
       "\n",
       "          CB Rating     RB Rating     GK Rating  \n",
       "count  18539.000000  18539.000000  18539.000000  \n",
       "mean      54.528184     55.650251     23.257134  \n",
       "std       14.743929     14.159466     15.108925  \n",
       "min       18.000000     17.000000     10.000000  \n",
       "25%       45.000000     49.000000     17.000000  \n",
       "50%       58.000000     59.000000     18.000000  \n",
       "75%       66.000000     65.000000     20.000000  \n",
       "max       90.000000     87.000000     90.000000  \n",
       "\n",
       "[8 rows x 71 columns]"
      ]
     },
     "execution_count": 8,
     "metadata": {},
     "output_type": "execute_result"
    }
   ],
   "source": [
    "# Numerical summary statistics\n",
    "df.describe()"
   ]
  },
  {
   "cell_type": "markdown",
   "id": "034b6891-c282-46ff-bdf7-e48c8446f8e7",
   "metadata": {},
   "source": [
    "### Data Cleaning & Exploration"
   ]
  },
  {
   "cell_type": "code",
   "execution_count": 9,
   "id": "29ca16da-6716-4711-8c7a-375c192fe8e2",
   "metadata": {},
   "outputs": [],
   "source": [
    "# Create copy for data cleaning\n",
    "clean_df  = df.copy()"
   ]
  },
  {
   "cell_type": "code",
   "execution_count": 10,
   "id": "21edcc7b-b7be-459a-98bd-d43efe110c2c",
   "metadata": {},
   "outputs": [
    {
     "name": "stdout",
     "output_type": "stream",
     "text": [
      "Missing values (%):\n",
      " Known As                    0.0\n",
      "Freekick Accuracy           0.0\n",
      "Standing Tackle             0.0\n",
      "Marking                     0.0\n",
      "Composure                   0.0\n",
      "                           ... \n",
      "National Team Position      0.0\n",
      "National Team Image Link    0.0\n",
      "National Team Name          0.0\n",
      "International Reputation    0.0\n",
      "GK Rating                   0.0\n",
      "Length: 89, dtype: float64\n"
     ]
    }
   ],
   "source": [
    "# Check % of missing values per column\n",
    "missing_percent = clean_df.isnull().mean().sort_values(ascending=False) * 100\n",
    "print(\"Missing values (%):\\n\", missing_percent)"
   ]
  },
  {
   "cell_type": "code",
   "execution_count": 11,
   "id": "6e851054-62b6-4922-b3e0-daaf3fdb47b6",
   "metadata": {},
   "outputs": [
    {
     "data": {
      "text/plain": [
       "(dtype('int64'), dtype('O'))"
      ]
     },
     "execution_count": 11,
     "metadata": {},
     "output_type": "execute_result"
    }
   ],
   "source": [
    "clean_df['Joined On'].dtype, clean_df['Contract Until'].dtype"
   ]
  },
  {
   "cell_type": "code",
   "execution_count": 12,
   "id": "ab832c0d-f7ed-4115-85f5-aec811b4b96e",
   "metadata": {},
   "outputs": [],
   "source": [
    "# Convert date-like columns to datetime format\n",
    "date_cols = ['Joined On', 'Contract Until']\n",
    "for col in date_cols:\n",
    "    clean_df[col] = pd.to_datetime(clean_df[col], errors='coerce')"
   ]
  },
  {
   "cell_type": "code",
   "execution_count": 13,
   "id": "316b910e-bde0-4739-99ea-cae1c1155bb4",
   "metadata": {},
   "outputs": [
    {
     "data": {
      "text/plain": [
       "(dtype('<M8[ns]'), dtype('<M8[ns]'))"
      ]
     },
     "execution_count": 13,
     "metadata": {},
     "output_type": "execute_result"
    }
   ],
   "source": [
    "clean_df['Joined On'].dtype, clean_df['Contract Until'].dtype"
   ]
  },
  {
   "cell_type": "code",
   "execution_count": 14,
   "id": "844a2267-1585-47b3-9ad2-b69185c98943",
   "metadata": {},
   "outputs": [],
   "source": [
    "# Extract year for time-based analysis\n",
    "clean_df['Joined Year'] = clean_df['Joined On'].dt.year\n",
    "clean_df['Contract End Year'] = clean_df['Contract Until'].dt.year"
   ]
  },
  {
   "cell_type": "markdown",
   "id": "4a73ae30-40ce-4982-83f0-effc7225b3e9",
   "metadata": {},
   "source": [
    "#### *Useful derived features*"
   ]
  },
  {
   "cell_type": "code",
   "execution_count": 15,
   "id": "0d14f325-558b-4329-b088-ed341935446b",
   "metadata": {},
   "outputs": [
    {
     "data": {
      "text/plain": [
       "0    276.921657\n",
       "1    142.221906\n",
       "2    199.999524\n",
       "3    307.141980\n",
       "4    828.257268\n",
       "Name: Value_to_Wage, dtype: float64"
      ]
     },
     "execution_count": 15,
     "metadata": {},
     "output_type": "execute_result"
    }
   ],
   "source": [
    "# Calculate player “Value-to-Wage Ratio”\n",
    "clean_df['Value_to_Wage'] = clean_df['Value(in Euro)'] / (clean_df['Wage(in Euro)'] + 1)\n",
    "clean_df['Value_to_Wage'].head()"
   ]
  },
  {
   "cell_type": "code",
   "execution_count": 16,
   "id": "988b3f57-9517-44ec-98f4-bc2cdfc533d8",
   "metadata": {},
   "outputs": [
    {
     "data": {
      "text/plain": [
       "0         Late Prime\n",
       "1         Late Prime\n",
       "2         Late Prime\n",
       "3         Late Prime\n",
       "4        Young Adult\n",
       "            ...     \n",
       "18534    Young Adult\n",
       "18535           Teen\n",
       "18536           Teen\n",
       "18537           Teen\n",
       "18538    Young Adult\n",
       "Name: Age Group, Length: 18539, dtype: category\n",
       "Categories (6, object): ['Teen' < 'Young Adult' < 'Prime' < 'Late Prime' < 'Veteran' < 'Old']"
      ]
     },
     "execution_count": 16,
     "metadata": {},
     "output_type": "execute_result"
    }
   ],
   "source": [
    "# Player Age Groups\n",
    "bins = [15, 20, 25, 30, 35, 40, 50]\n",
    "labels = ['Teen', 'Young Adult', 'Prime', 'Late Prime', 'Veteran', 'Old']\n",
    "clean_df['Age Group'] = pd.cut(clean_df['Age'], bins=bins, labels=labels)\n",
    "clean_df['Age Group']"
   ]
  },
  {
   "cell_type": "code",
   "execution_count": 17,
   "id": "866fd75b-1aac-4bc6-a92e-a8d62a0b02e5",
   "metadata": {},
   "outputs": [
    {
     "data": {
      "text/plain": [
       "0         RW\n",
       "1         CF\n",
       "2         ST\n",
       "3         CM\n",
       "4         ST\n",
       "        ... \n",
       "18534     ST\n",
       "18535    CDM\n",
       "18536     CM\n",
       "18537     CB\n",
       "18538     LB\n",
       "Name: Main Position, Length: 18539, dtype: object"
      ]
     },
     "execution_count": 17,
     "metadata": {},
     "output_type": "execute_result"
    }
   ],
   "source": [
    "# Simplify Positions (take first if multiple)\n",
    "clean_df['Main Position'] = clean_df['Positions Played'].apply(lambda x: str(x).split(',')[0])\n",
    "clean_df['Main Position']"
   ]
  },
  {
   "cell_type": "code",
   "execution_count": 18,
   "id": "1eee9f39-ed54-46c3-a01f-61eccfb65ee6",
   "metadata": {},
   "outputs": [
    {
     "name": "stdout",
     "output_type": "stream",
     "text": [
      "\n",
      "Cleaned dataset shape: (18539, 94)\n",
      "\n",
      "Sample cleaned data:\n",
      "          Known As           Full Name  Overall  Potential  Value(in Euro)  \\\n",
      "0        L. Messi        Lionel Messi       91         91        54000000   \n",
      "1      K. Benzema       Karim Benzema       91         91        64000000   \n",
      "2  R. Lewandowski  Robert Lewandowski       91         91        84000000   \n",
      "\n",
      "  Positions Played Best Position Nationality  \\\n",
      "0               RW           CAM   Argentina   \n",
      "1            CF,ST            CF      France   \n",
      "2               ST            ST      Poland   \n",
      "\n",
      "                                         Image Link  Age  ...  RWB Rating  \\\n",
      "0  https://cdn.sofifa.net/players/158/023/23_60.png   35  ...          67   \n",
      "1  https://cdn.sofifa.net/players/165/153/23_60.png   34  ...          67   \n",
      "2  https://cdn.sofifa.net/players/188/545/23_60.png   33  ...          67   \n",
      "\n",
      "   LB Rating  CB Rating  RB Rating GK Rating  Joined Year  Contract End Year  \\\n",
      "0         62         53         62        22         1970             2023.0   \n",
      "1         63         58         63        21         1970             2023.0   \n",
      "2         64         63         64        22         1970             2025.0   \n",
      "\n",
      "  Value_to_Wage   Age Group Main Position  \n",
      "0    276.921657  Late Prime            RW  \n",
      "1    142.221906  Late Prime            CF  \n",
      "2    199.999524  Late Prime            ST  \n",
      "\n",
      "[3 rows x 94 columns]\n"
     ]
    }
   ],
   "source": [
    "# Final Check\n",
    "print(\"\\nCleaned dataset shape:\", clean_df.shape)\n",
    "print(\"\\nSample cleaned data:\\n\", clean_df.head(3))"
   ]
  },
  {
   "cell_type": "markdown",
   "id": "e1c923f6-bb0d-4671-999f-af33acdbfeb6",
   "metadata": {},
   "source": [
    "### Data Analysis"
   ]
  },
  {
   "cell_type": "code",
   "execution_count": 19,
   "id": "14cde570-5fe3-4449-be6e-44b980e2c6a2",
   "metadata": {},
   "outputs": [
    {
     "name": "stdout",
     "output_type": "stream",
     "text": [
      "\n",
      "Players Joined per Year:\n",
      " Joined On\n",
      "2022    6771\n",
      "2021    4555\n",
      "2020    2813\n",
      "2019    1832\n",
      "2018     975\n",
      "Name: count, dtype: int64\n"
     ]
    }
   ],
   "source": [
    "# Count players by year joined\n",
    "players_per_year = df['Joined On'].value_counts().sort_index(ascending=False)\n",
    "print(\"\\nPlayers Joined per Year:\\n\", players_per_year.head())"
   ]
  },
  {
   "cell_type": "code",
   "execution_count": 20,
   "id": "9aa434d2-91a1-4be2-a5bd-b4977a177d8a",
   "metadata": {},
   "outputs": [
    {
     "name": "stdout",
     "output_type": "stream",
     "text": [
      "\n",
      "Top Clubs by Number of Players:\n",
      " Club Name\n",
      "Free agent                 92\n",
      "Olympique de Marseille     35\n",
      "Wolverhampton Wanderers    34\n",
      "RC Celta de Vigo           34\n",
      "Real Madrid CF             34\n",
      "Borussia Dortmund          34\n",
      "Real Valladolid CF         34\n",
      "Nottingham Forest          34\n",
      "Lecce                      34\n",
      "Atlético de Madrid         33\n",
      "Name: count, dtype: int64\n"
     ]
    }
   ],
   "source": [
    "# Identify top clubs with most players\n",
    "top_clubs = df['Club Name'].value_counts().head(10)\n",
    "print(\"\\nTop Clubs by Number of Players:\\n\", top_clubs)"
   ]
  },
  {
   "cell_type": "code",
   "execution_count": 21,
   "id": "6cb6ba7e-2a86-410d-90aa-586fff6e37e2",
   "metadata": {},
   "outputs": [
    {
     "name": "stdout",
     "output_type": "stream",
     "text": [
      "\n",
      "Most Common Positions:\n",
      " [('CM', 4182), ('CB', 3935), ('ST', 3224), ('CDM', 2843), ('LM', 2273), ('RM', 2272), ('CAM', 2179), ('GK', 2061), ('RB', 1923), ('LB', 1846)]\n"
     ]
    }
   ],
   "source": [
    "# --- Find most frequent words in 'Positions Played' ---\n",
    "from collections import Counter\n",
    "position_words = \" \".join(df['Positions Played'].astype(str)).replace(\",\", \" \").split()\n",
    "common_positions = Counter(position_words).most_common(10)\n",
    "print(\"\\nMost Common Positions:\\n\", common_positions)"
   ]
  },
  {
   "cell_type": "markdown",
   "id": "ec98d17e-2adb-4ca7-b298-6033206ac3ec",
   "metadata": {},
   "source": [
    "### Visualizations"
   ]
  },
  {
   "cell_type": "code",
   "execution_count": 26,
   "id": "6963cd53-e9cd-423a-83a2-acbc69d76218",
   "metadata": {},
   "outputs": [
    {
     "name": "stderr",
     "output_type": "stream",
     "text": [
      "C:\\Users\\user\\AppData\\Local\\Temp\\ipykernel_3488\\2101571993.py:12: FutureWarning: \n",
      "\n",
      "Passing `palette` without assigning `hue` is deprecated and will be removed in v0.14.0. Assign the `y` variable to `hue` and set `legend=False` for the same effect.\n",
      "\n",
      "  sns.barplot(x=top10_clubs.values, y=top10_clubs.index, palette=\"crest\")\n"
     ]
    },
    {
     "data": {
      "image/png": "[encoded data removed]",
      "text/plain": [
       "<Figure size 1000x600 with 1 Axes>"
      ]
     },
     "metadata": {},
     "output_type": "display_data"
    }
   ],
   "source": [
    "# Compute mean overall rating per club\n",
    "top10_clubs = (\n",
    "    df.groupby('Club Name')['Overall']\n",
    "    .mean()\n",
    "    .sort_values(ascending=False)\n",
    "    .head(10)\n",
    "    .round(2)\n",
    ")\n",
    "\n",
    "# Plot \n",
    "plt.figure(figsize=(10, 6))\n",
    "sns.barplot(x=top10_clubs.values, y=top10_clubs.index, palette=\"crest\")\n",
    "plt.title(\"Top 10 Clubs by Mean Overall Rating\", fontsize=14, weight='bold')\n",
    "plt.xlabel(\"Mean Overall Rating\")\n",
    "plt.ylabel(\"Club\")\n",
    "plt.grid(axis='x', linestyle='--', alpha=0.4)\n",
    "\n",
    "# Annotate bars\n",
    "for index, value in enumerate(top10_clubs.values):\n",
    "    plt.text(value + 0.2, index, f\"{value}\", va='center', fontsize=10)\n",
    "\n",
    "plt.tight_layout()\n",
    "plt.show()\n"
   ]
  },
  {
   "cell_type": "markdown",
   "id": "157f302b-8af4-4c2c-828e-9f6fc06009cd",
   "metadata": {},
   "source": [
    "#### *Aggregations*"
   ]
  },
  {
   "cell_type": "code",
   "execution_count": 27,
   "id": "76ccb63b-4207-466a-a32d-c7ca8b99a3d0",
   "metadata": {},
   "outputs": [],
   "source": [
    "# Defensive, Midfield, and Attack ratings\n",
    "df['Defense_Rating'] = df[['CB Rating', 'LB Rating', 'RB Rating', 'LWB Rating', 'RWB Rating', 'CDM Rating']].mean(axis=1)\n",
    "df['Midfield_Rating'] = df[['CM Rating', 'CAM Rating', 'LM Rating', 'RM Rating']].mean(axis=1)\n",
    "df['Attack_Rating'] = df[['ST Rating', 'CF Rating', 'LW Rating', 'RW Rating', 'LF Rating', 'RF Rating']].mean(axis=1)"
   ]
  },
  {
   "cell_type": "code",
   "execution_count": 35,
   "id": "46a4f966-4b48-4dbb-b14c-b94a4453920a",
   "metadata": {},
   "outputs": [
    {
     "data": {
      "image/png": "[encoded data removed]",
      "text/plain": [
       "<Figure size 1000x600 with 1 Axes>"
      ]
     },
     "metadata": {},
     "output_type": "display_data"
    }
   ],
   "source": [
    "# Group by Club and get mean of defense rating\n",
    "top_defense_clubs = (\n",
    "    df.groupby('Club Name')['Defense_Rating']\n",
    "    .mean()\n",
    "    .sort_values(ascending=False)\n",
    "    .head(10)\n",
    "    .round(2)\n",
    ")\n",
    "\n",
    "\n",
    "# Sort descending for vertical bar order\n",
    "top_defense_clubs_sorted = top_defense_clubs.sort_values(ascending=False)\n",
    "\n",
    "# Set plot style\n",
    "sns.set_theme(style=\"whitegrid\", font_scale=1.1)\n",
    "plt.figure(figsize=(10,6))\n",
    "\n",
    "# Create the bar plot\n",
    "bars = plt.bar(top_defense_clubs_sorted.index,\n",
    "               top_defense_clubs_sorted.values,\n",
    "               color=sns.color_palette(\"Blues_r\", n_colors=10))\n",
    "\n",
    "# Title and labels\n",
    "plt.title(\"Top 10 Clubs with Best Defense Ratings\", fontsize=15, weight='bold', pad=15)\n",
    "plt.xlabel(\"Club\")\n",
    "plt.ylabel(\"Average Defense Rating\")\n",
    "\n",
    "# Rotate x-labels for readability\n",
    "plt.xticks(rotation=45, ha='right')\n",
    "\n",
    "# Annotate each bar with value\n",
    "for bar in bars:\n",
    "    height = bar.get_height()\n",
    "    plt.text(bar.get_x() + bar.get_width()/2, height + 0.2,\n",
    "             f\"{height:.1f}\", ha='center', va='bottom', fontsize=10, color='dimgray')\n",
    "\n",
    "# Style tweaks\n",
    "plt.grid(axis='y', linestyle='--', alpha=0.4)\n",
    "sns.despine(left=True, bottom=True)\n",
    "plt.tight_layout()\n",
    "plt.show()\n"
   ]
  }
 ],
 "metadata": {
  "kernelspec": {
   "display_name": "Python 3 (ipykernel)",
   "language": "python",
   "name": "python3"
  },
  "language_info": {
   "codemirror_mode": {
    "name": "ipython",
    "version": 3
   },
   "file_extension": ".py",
   "mimetype": "text/x-python",
   "name": "python",
   "nbconvert_exporter": "python",
   "pygments_lexer": "ipython3",
   "version": "3.13.0"
  }
 },
 "nbformat": 4,
 "nbformat_minor": 5
}
